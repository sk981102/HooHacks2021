{
 "cells": [
  {
   "cell_type": "code",
   "execution_count": 18,
   "metadata": {},
   "outputs": [],
   "source": [
    "import numpy as np\n",
    "import pandas as pd\n",
    "import seaborn as sns\n",
    "import re\n",
    "import matplotlib.pyplot as plt\n",
    "import nltk\n",
    "import spacy"
   ]
  },
  {
   "cell_type": "code",
   "execution_count": 5,
   "metadata": {},
   "outputs": [],
   "source": [
    "from nltk.sentiment import SentimentIntensityAnalyzer"
   ]
  },
  {
   "cell_type": "code",
   "execution_count": 9,
   "metadata": {},
   "outputs": [],
   "source": [
    "data=pd.read_csv(\"data/vax_reddit.csv\")\n",
    "\n",
    "#getting rid of http: address in test\n",
    "data['text'] = data['text'].apply(lambda x: re.split('https:\\/\\/.*', str(x))[0])"
   ]
  },
  {
   "cell_type": "code",
   "execution_count": 43,
   "metadata": {},
   "outputs": [
    {
     "name": "stdout",
     "output_type": "stream",
     "text": [
      "The correct takeaway is that the vaccines aren't working. The efficacy is lower than the massaged data from the pharma companies and variants are being created by them and are evading them.\n",
      "\n",
      "Unfortunately, what we'll be told is that it's because not enough people have been vaccinated so we need to step up the speed and breadth of the process. Also, don't fear, because improved versions are coming that will handle the variants - lather, rinse, repeat.\n",
      "\n",
      "Reality is the vaccines only keep the hospitalization rates down, temporarily, and may slow spread by keeping coughing and sneezing at bay. No immunity is conferred and ability to infect still exists. With vaccine-induced variants, the pandemic will be extended instead of contained. But who cares - pharma is making money and business can reopen... isn't that what this is all about? (cause it sure isn't about health)\n"
     ]
    },
    {
     "data": {
      "text/plain": [
       "0.079"
      ]
     },
     "execution_count": 43,
     "metadata": {},
     "output_type": "execute_result"
    }
   ],
   "source": [
    "#nltk\n",
    "sia = SentimentIntensityAnalyzer()\n",
    "\n",
    "\n",
    "\n",
    "print(data['text'][5])\n",
    "sia.polarity_scores(data['text'][5])['pos']"
   ]
  },
  {
   "cell_type": "code",
   "execution_count": 48,
   "metadata": {},
   "outputs": [],
   "source": [
    "tmp =data\n",
    "tmp['pos']=data['text'].apply(lambda x:sia.polarity_scores(x)['pos'])\n",
    "tmp['neg']=data['text'].apply(lambda x:sia.polarity_scores(x)['neg'])\n",
    "tmp['neu']=data['text'].apply(lambda x:sia.polarity_scores(x)['neu'])\n"
   ]
  },
  {
   "cell_type": "code",
   "execution_count": 53,
   "metadata": {},
   "outputs": [],
   "source": [
    "#texhbl\n",
    "from textblob import TextBlob\n",
    "TextBlob(data['text'][5]).sentiment\n",
    "\n",
    "tmp['polarity']=data['text'].apply(lambda x:TextBlob(x).sentiment.polarity)\n",
    "tmp['subjectivity']=data['text'].apply(lambda x:TextBlob(x).sentiment.subjectivity)\n"
   ]
  },
  {
   "cell_type": "code",
   "execution_count": 55,
   "metadata": {},
   "outputs": [
    {
     "data": {
      "text/html": [
       "<div>\n",
       "<style scoped>\n",
       "    .dataframe tbody tr th:only-of-type {\n",
       "        vertical-align: middle;\n",
       "    }\n",
       "\n",
       "    .dataframe tbody tr th {\n",
       "        vertical-align: top;\n",
       "    }\n",
       "\n",
       "    .dataframe thead th {\n",
       "        text-align: right;\n",
       "    }\n",
       "</style>\n",
       "<table border=\"1\" class=\"dataframe\">\n",
       "  <thead>\n",
       "    <tr style=\"text-align: right;\">\n",
       "      <th></th>\n",
       "      <th>pos</th>\n",
       "      <th>neg</th>\n",
       "      <th>neu</th>\n",
       "      <th>polarity</th>\n",
       "      <th>subjectivity</th>\n",
       "    </tr>\n",
       "  </thead>\n",
       "  <tbody>\n",
       "    <tr>\n",
       "      <th>count</th>\n",
       "      <td>7079.000000</td>\n",
       "      <td>7079.000000</td>\n",
       "      <td>7079.000000</td>\n",
       "      <td>7079.000000</td>\n",
       "      <td>7079.000000</td>\n",
       "    </tr>\n",
       "    <tr>\n",
       "      <th>mean</th>\n",
       "      <td>0.109170</td>\n",
       "      <td>0.098702</td>\n",
       "      <td>0.781963</td>\n",
       "      <td>0.039488</td>\n",
       "      <td>0.368323</td>\n",
       "    </tr>\n",
       "    <tr>\n",
       "      <th>std</th>\n",
       "      <td>0.164281</td>\n",
       "      <td>0.142483</td>\n",
       "      <td>0.215163</td>\n",
       "      <td>0.266665</td>\n",
       "      <td>0.311046</td>\n",
       "    </tr>\n",
       "    <tr>\n",
       "      <th>min</th>\n",
       "      <td>0.000000</td>\n",
       "      <td>0.000000</td>\n",
       "      <td>0.000000</td>\n",
       "      <td>-1.000000</td>\n",
       "      <td>0.000000</td>\n",
       "    </tr>\n",
       "    <tr>\n",
       "      <th>25%</th>\n",
       "      <td>0.000000</td>\n",
       "      <td>0.000000</td>\n",
       "      <td>0.685000</td>\n",
       "      <td>0.000000</td>\n",
       "      <td>0.000000</td>\n",
       "    </tr>\n",
       "    <tr>\n",
       "      <th>50%</th>\n",
       "      <td>0.049000</td>\n",
       "      <td>0.033000</td>\n",
       "      <td>0.811000</td>\n",
       "      <td>0.000000</td>\n",
       "      <td>0.400000</td>\n",
       "    </tr>\n",
       "    <tr>\n",
       "      <th>75%</th>\n",
       "      <td>0.158000</td>\n",
       "      <td>0.155000</td>\n",
       "      <td>1.000000</td>\n",
       "      <td>0.150000</td>\n",
       "      <td>0.600000</td>\n",
       "    </tr>\n",
       "    <tr>\n",
       "      <th>max</th>\n",
       "      <td>1.000000</td>\n",
       "      <td>1.000000</td>\n",
       "      <td>1.000000</td>\n",
       "      <td>1.000000</td>\n",
       "      <td>1.000000</td>\n",
       "    </tr>\n",
       "  </tbody>\n",
       "</table>\n",
       "</div>"
      ],
      "text/plain": [
       "               pos          neg          neu     polarity  subjectivity\n",
       "count  7079.000000  7079.000000  7079.000000  7079.000000   7079.000000\n",
       "mean      0.109170     0.098702     0.781963     0.039488      0.368323\n",
       "std       0.164281     0.142483     0.215163     0.266665      0.311046\n",
       "min       0.000000     0.000000     0.000000    -1.000000      0.000000\n",
       "25%       0.000000     0.000000     0.685000     0.000000      0.000000\n",
       "50%       0.049000     0.033000     0.811000     0.000000      0.400000\n",
       "75%       0.158000     0.155000     1.000000     0.150000      0.600000\n",
       "max       1.000000     1.000000     1.000000     1.000000      1.000000"
      ]
     },
     "execution_count": 55,
     "metadata": {},
     "output_type": "execute_result"
    }
   ],
   "source": [
    "tmp.describe()"
   ]
  },
  {
   "cell_type": "code",
   "execution_count": 56,
   "metadata": {},
   "outputs": [
    {
     "name": "stderr",
     "output_type": "stream",
     "text": [
      "/usr/local/lib/python3.9/site-packages/pandas/plotting/_matplotlib/tools.py:400: MatplotlibDeprecationWarning: \n",
      "The is_first_col function was deprecated in Matplotlib 3.4 and will be removed two minor releases later. Use ax.get_subplotspec().is_first_col() instead.\n",
      "  if ax.is_first_col():\n"
     ]
    },
    {
     "data": {
      "text/plain": [
       "array([[<AxesSubplot:title={'center':'pos'}>,\n",
       "        <AxesSubplot:title={'center':'neg'}>],\n",
       "       [<AxesSubplot:title={'center':'neu'}>,\n",
       "        <AxesSubplot:title={'center':'polarity'}>],\n",
       "       [<AxesSubplot:title={'center':'subjectivity'}>, <AxesSubplot:>]],\n",
       "      dtype=object)"
      ]
     },
     "execution_count": 56,
     "metadata": {},
     "output_type": "execute_result"
    },
    {
     "data": {
      "image/png": "[encoded data removed]",
      "text/plain": [
       "<Figure size 432x288 with 6 Axes>"
      ]
     },
     "metadata": {
      "needs_background": "light"
     },
     "output_type": "display_data"
    }
   ],
   "source": [
    "tmp.hist()"
   ]
  },
  {
   "cell_type": "code",
   "execution_count": 70,
   "metadata": {},
   "outputs": [],
   "source": [
    "#get rid of polarity ==0 and subjectivity==0\n",
    "\n",
    "tmp2=tmp[(tmp[\"polarity\"]!=0) | (tmp[\"subjectivity\"]!=0)]"
   ]
  },
  {
   "cell_type": "code",
   "execution_count": 72,
   "metadata": {},
   "outputs": [
    {
     "data": {
      "text/html": [
       "<div>\n",
       "<style scoped>\n",
       "    .dataframe tbody tr th:only-of-type {\n",
       "        vertical-align: middle;\n",
       "    }\n",
       "\n",
       "    .dataframe tbody tr th {\n",
       "        vertical-align: top;\n",
       "    }\n",
       "\n",
       "    .dataframe thead th {\n",
       "        text-align: right;\n",
       "    }\n",
       "</style>\n",
       "<table border=\"1\" class=\"dataframe\">\n",
       "  <thead>\n",
       "    <tr style=\"text-align: right;\">\n",
       "      <th></th>\n",
       "      <th>pos</th>\n",
       "      <th>neg</th>\n",
       "      <th>neu</th>\n",
       "      <th>polarity</th>\n",
       "      <th>subjectivity</th>\n",
       "    </tr>\n",
       "  </thead>\n",
       "  <tbody>\n",
       "    <tr>\n",
       "      <th>count</th>\n",
       "      <td>4860.000000</td>\n",
       "      <td>4860.000000</td>\n",
       "      <td>4860.000000</td>\n",
       "      <td>4860.000000</td>\n",
       "      <td>4860.000000</td>\n",
       "    </tr>\n",
       "    <tr>\n",
       "      <th>mean</th>\n",
       "      <td>0.131901</td>\n",
       "      <td>0.118813</td>\n",
       "      <td>0.749293</td>\n",
       "      <td>0.057517</td>\n",
       "      <td>0.536494</td>\n",
       "    </tr>\n",
       "    <tr>\n",
       "      <th>std</th>\n",
       "      <td>0.162969</td>\n",
       "      <td>0.137258</td>\n",
       "      <td>0.182764</td>\n",
       "      <td>0.320231</td>\n",
       "      <td>0.225149</td>\n",
       "    </tr>\n",
       "    <tr>\n",
       "      <th>min</th>\n",
       "      <td>0.000000</td>\n",
       "      <td>0.000000</td>\n",
       "      <td>0.000000</td>\n",
       "      <td>-1.000000</td>\n",
       "      <td>0.000000</td>\n",
       "    </tr>\n",
       "    <tr>\n",
       "      <th>25%</th>\n",
       "      <td>0.000000</td>\n",
       "      <td>0.000000</td>\n",
       "      <td>0.666000</td>\n",
       "      <td>-0.100000</td>\n",
       "      <td>0.395833</td>\n",
       "    </tr>\n",
       "    <tr>\n",
       "      <th>50%</th>\n",
       "      <td>0.093000</td>\n",
       "      <td>0.090000</td>\n",
       "      <td>0.773000</td>\n",
       "      <td>0.062500</td>\n",
       "      <td>0.512500</td>\n",
       "    </tr>\n",
       "    <tr>\n",
       "      <th>75%</th>\n",
       "      <td>0.182000</td>\n",
       "      <td>0.179000</td>\n",
       "      <td>0.867000</td>\n",
       "      <td>0.233333</td>\n",
       "      <td>0.666667</td>\n",
       "    </tr>\n",
       "    <tr>\n",
       "      <th>max</th>\n",
       "      <td>1.000000</td>\n",
       "      <td>1.000000</td>\n",
       "      <td>1.000000</td>\n",
       "      <td>1.000000</td>\n",
       "      <td>1.000000</td>\n",
       "    </tr>\n",
       "  </tbody>\n",
       "</table>\n",
       "</div>"
      ],
      "text/plain": [
       "               pos          neg          neu     polarity  subjectivity\n",
       "count  4860.000000  4860.000000  4860.000000  4860.000000   4860.000000\n",
       "mean      0.131901     0.118813     0.749293     0.057517      0.536494\n",
       "std       0.162969     0.137258     0.182764     0.320231      0.225149\n",
       "min       0.000000     0.000000     0.000000    -1.000000      0.000000\n",
       "25%       0.000000     0.000000     0.666000    -0.100000      0.395833\n",
       "50%       0.093000     0.090000     0.773000     0.062500      0.512500\n",
       "75%       0.182000     0.179000     0.867000     0.233333      0.666667\n",
       "max       1.000000     1.000000     1.000000     1.000000      1.000000"
      ]
     },
     "execution_count": 72,
     "metadata": {},
     "output_type": "execute_result"
    }
   ],
   "source": [
    "tmp2.describe()"
   ]
  },
  {
   "cell_type": "code",
   "execution_count": 74,
   "metadata": {},
   "outputs": [
    {
     "data": {
      "text/plain": [
       "array([[<AxesSubplot:title={'center':'pos'}>,\n",
       "        <AxesSubplot:title={'center':'neg'}>],\n",
       "       [<AxesSubplot:title={'center':'neu'}>,\n",
       "        <AxesSubplot:title={'center':'polarity'}>],\n",
       "       [<AxesSubplot:title={'center':'subjectivity'}>, <AxesSubplot:>]],\n",
       "      dtype=object)"
      ]
     },
     "execution_count": 74,
     "metadata": {},
     "output_type": "execute_result"
    },
    {
     "data": {
      "image/png": "[encoded data removed]",
      "text/plain": [
       "<Figure size 432x288 with 6 Axes>"
      ]
     },
     "metadata": {
      "needs_background": "light"
     },
     "output_type": "display_data"
    }
   ],
   "source": [
    "tmp2.hist()"
   ]
  },
  {
   "cell_type": "code",
   "execution_count": null,
   "metadata": {},
   "outputs": [],
   "source": []
  }
 ],
 "metadata": {
  "kernelspec": {
   "display_name": "venv",
   "language": "python",
   "name": "venv"
  },
  "language_info": {
   "codemirror_mode": {
    "name": "ipython",
    "version": 3
   },
   "file_extension": ".py",
   "mimetype": "text/x-python",
   "name": "python",
   "nbconvert_exporter": "python",
   "pygments_lexer": "ipython3",
   "version": "3.9.2"
  }
 },
 "nbformat": 4,
 "nbformat_minor": 4
}
